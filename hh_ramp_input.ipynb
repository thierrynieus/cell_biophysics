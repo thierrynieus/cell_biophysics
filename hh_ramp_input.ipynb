{
 "cells": [
  {
   "cell_type": "code",
   "execution_count": 33,
   "id": "051746cd",
   "metadata": {},
   "outputs": [
    {
     "data": {
      "text/plain": [
       "<matplotlib.pyplot._IonContext at 0x7f9bea8fccd0>"
      ]
     },
     "execution_count": 33,
     "metadata": {},
     "output_type": "execute_result"
    }
   ],
   "source": [
    "from neuron import h\n",
    "import numpy as np\n",
    "import pylab as plt\n",
    "plt.ion()"
   ]
  },
  {
   "cell_type": "code",
   "execution_count": 34,
   "id": "36c8dcee",
   "metadata": {},
   "outputs": [],
   "source": [
    "!nrnivmodl > null.out"
   ]
  },
  {
   "cell_type": "markdown",
   "id": "5f141dd9",
   "metadata": {},
   "source": [
    "# Model setting"
   ]
  },
  {
   "cell_type": "code",
   "execution_count": 35,
   "id": "30423282",
   "metadata": {
    "scrolled": true
   },
   "outputs": [
    {
     "data": {
      "text/plain": [
       "soma"
      ]
     },
     "execution_count": 35,
     "metadata": {},
     "output_type": "execute_result"
    }
   ],
   "source": [
    "soma = h.Section(name='soma')\n",
    "soma.L = 10\n",
    "soma.diam = 10\n",
    "soma.insert('sodium')\n",
    "soma.insert('potassium')\n",
    "soma.insert('leak')"
   ]
  },
  {
   "cell_type": "code",
   "execution_count": 36,
   "id": "b027020b",
   "metadata": {},
   "outputs": [],
   "source": [
    "tstop = 500\n",
    "onset = 100\n",
    "dur = tstop - 2 * onset"
   ]
  },
  {
   "cell_type": "markdown",
   "id": "ce792a43",
   "metadata": {},
   "source": [
    "## Define inputs"
   ]
  },
  {
   "cell_type": "code",
   "execution_count": 44,
   "id": "4af70a04",
   "metadata": {},
   "outputs": [],
   "source": [
    "# step current\n",
    "iclamp = h.IClamp(soma(0.5))\n",
    "iclamp.delay = onset\n",
    "iclamp.dur = dur\n",
    "iclamp.amp = 0 # 0.9\n",
    "\n",
    "# ramp current\n",
    "ramp_input = h.ramp(soma(0.5))\n",
    "ramp_input.delay = onset\n",
    "ramp_input.dur = dur\n",
    "ramp_input.amp0 = 0.006\n",
    "ramp_input.amp1 = 0.018\n",
    "ramp_input.tpeak = 10\n",
    "\n",
    "# record voltage and time\n",
    "v = h.Vector().record(soma(0.5)._ref_v)             # Membrane potential vector\n",
    "t = h.Vector().record(h._ref_t)                     # Time stamp vector"
   ]
  },
  {
   "cell_type": "code",
   "execution_count": 45,
   "id": "8558bc12",
   "metadata": {},
   "outputs": [],
   "source": [
    "def ramp_func(t, ramp):\n",
    "    \"\"\"ramp current\"\"\"\n",
    "    if (t <(ramp.delay+ramp.dur)) & (t > ramp.delay):\n",
    "        if t< (ramp.delay+ramp.tpeak):\n",
    "            i = ramp.amp0 + (ramp.amp1-ramp.amp0)/ramp.tpeak*(t-ramp.delay)\n",
    "        else:\n",
    "            i = ramp.amp1\n",
    "    else:\n",
    "        i = 0\n",
    "    return i"
   ]
  },
  {
   "cell_type": "markdown",
   "id": "39e48cbd",
   "metadata": {},
   "source": [
    "# Run simulation"
   ]
  },
  {
   "cell_type": "code",
   "execution_count": 46,
   "id": "a3229393",
   "metadata": {},
   "outputs": [
    {
     "data": {
      "text/plain": [
       "0.0"
      ]
     },
     "execution_count": 46,
     "metadata": {},
     "output_type": "execute_result"
    }
   ],
   "source": [
    "h.load_file('stdrun.hoc')\n",
    "h.finitialize(-65)\n",
    "h.tstop = tstop\n",
    "h.run()"
   ]
  },
  {
   "cell_type": "code",
   "execution_count": 47,
   "id": "c75b6f73",
   "metadata": {},
   "outputs": [],
   "source": [
    "v_arr = np.array(v)\n",
    "t_arr = np.array(t)\n",
    "i_rp = []\n",
    "for t in t_arr:\n",
    "    i_rp.append(ramp_func(t, ramp_input))"
   ]
  },
  {
   "cell_type": "code",
   "execution_count": null,
   "id": "b63dfc7b",
   "metadata": {},
   "outputs": [],
   "source": [
    "plt.figure()\n",
    "plt.subplot(211)\n",
    "plt.plot(t_arr, i_rp)\n",
    "plt.subplot(212)\n",
    "plt.plot(t_arr, v_arr)"
   ]
  },
  {
   "cell_type": "code",
   "execution_count": 48,
   "id": "5601e4d5",
   "metadata": {},
   "outputs": [
    {
     "data": {
      "text/plain": [
       "Text(0, 0.5, 'v (mV)')"
      ]
     },
     "execution_count": 48,
     "metadata": {},
     "output_type": "execute_result"
    },
    {
     "data": {
      "image/png": "[encoded data removed]",
      "text/plain": [
       "<Figure size 432x288 with 2 Axes>"
      ]
     },
     "metadata": {
      "needs_background": "light"
     },
     "output_type": "display_data"
    }
   ],
   "source": [
    "plt.xlabel('t (ms)')\n",
    "plt.ylabel('v (mV)')"
   ]
  },
  {
   "cell_type": "code",
   "execution_count": null,
   "id": "8522054c",
   "metadata": {},
   "outputs": [],
   "source": []
  }
 ],
 "metadata": {
  "hide_input": false,
  "kernelspec": {
   "display_name": "Python 3 (ipykernel)",
   "language": "python",
   "name": "python3"
  },
  "language_info": {
   "codemirror_mode": {
    "name": "ipython",
    "version": 3
   },
   "file_extension": ".py",
   "mimetype": "text/x-python",
   "name": "python",
   "nbconvert_exporter": "python",
   "pygments_lexer": "ipython3",
   "version": "3.9.7"
  },
  "toc": {
   "base_numbering": 1,
   "nav_menu": {},
   "number_sections": true,
   "sideBar": true,
   "skip_h1_title": false,
   "title_cell": "Table of Contents",
   "title_sidebar": "Contents",
   "toc_cell": false,
   "toc_position": {},
   "toc_section_display": true,
   "toc_window_display": true
  }
 },
 "nbformat": 4,
 "nbformat_minor": 5
}
