{
 "cells": [
  {
   "cell_type": "code",
   "execution_count": null,
   "id": "5dd4ff38",
   "metadata": {},
   "outputs": [],
   "source": [
    "!pip install numpy scipy matplotlib neuron --quiet"
   ]
  },
  {
   "cell_type": "code",
   "execution_count": 1,
   "id": "051746cd",
   "metadata": {},
   "outputs": [
    {
     "data": {
      "text/plain": [
       "<contextlib.ExitStack at 0x7f421b76f2f0>"
      ]
     },
     "execution_count": 1,
     "metadata": {},
     "output_type": "execute_result"
    }
   ],
   "source": [
    "import numpy as np\n",
    "import pylab as plt\n",
    "plt.ion()"
   ]
  },
  {
   "cell_type": "code",
   "execution_count": 2,
   "id": "36c8dcee",
   "metadata": {},
   "outputs": [
    {
     "name": "stdout",
     "output_type": "stream",
     "text": [
      "/home/tnieus/mne-python/1.1.0_0/envs/neuron/bin/nrnivmodl:10: DeprecationWarning: pkg_resources is deprecated as an API. See https://setuptools.pypa.io/en/latest/pkg_resources.html\n",
      "  from pkg_resources import working_set\n",
      "Translating leak.mod into /home/tnieus/Documents/teaching/AA 2024-2025/Cell biophysics/lessons/github/cell_biophysics/x86_64/leak.c\n",
      "Translating Grc_sine.mod into /home/tnieus/Documents/teaching/AA 2024-2025/Cell biophysics/lessons/github/cell_biophysics/x86_64/Grc_sine.c\n",
      "Thread Safe\n",
      "Thread Safe\n",
      "Translating potassium.mod into /home/tnieus/Documents/teaching/AA 2024-2025/Cell biophysics/lessons/github/cell_biophysics/x86_64/potassium.c\n",
      "Translating ramp.mod into /home/tnieus/Documents/teaching/AA 2024-2025/Cell biophysics/lessons/github/cell_biophysics/x86_64/ramp.c\n",
      "Thread Safe\n",
      "Thread Safe\n",
      "Translating sodium.mod into /home/tnieus/Documents/teaching/AA 2024-2025/Cell biophysics/lessons/github/cell_biophysics/x86_64/sodium.c\n",
      "Thread Safe\n"
     ]
    }
   ],
   "source": [
    "!nrnivmodl > null.out"
   ]
  },
  {
   "cell_type": "markdown",
   "id": "5f141dd9",
   "metadata": {},
   "source": [
    "# Model setting"
   ]
  },
  {
   "cell_type": "code",
   "execution_count": 3,
   "id": "30423282",
   "metadata": {},
   "outputs": [
    {
     "data": {
      "text/plain": [
       "soma"
      ]
     },
     "execution_count": 3,
     "metadata": {},
     "output_type": "execute_result"
    }
   ],
   "source": [
    "from neuron import h\n",
    "soma = h.Section(name='soma')\n",
    "\n",
    "soma.L = 10\n",
    "soma.diam = 10\n",
    "soma.insert('sodium')\n",
    "soma.insert('potassium')\n",
    "soma.insert('leak')"
   ]
  },
  {
   "cell_type": "markdown",
   "id": "6002512e",
   "metadata": {},
   "source": [
    "## Set active channels off"
   ]
  },
  {
   "cell_type": "code",
   "execution_count": 4,
   "id": "6ffea157",
   "metadata": {},
   "outputs": [],
   "source": [
    "soma.gnabar_sodium = 0\n",
    "soma.gkbar_potassium = 0\n",
    "soma.gl_leak = 0.0003"
   ]
  },
  {
   "cell_type": "code",
   "execution_count": 5,
   "id": "b027020b",
   "metadata": {},
   "outputs": [],
   "source": [
    "tstop = 100\n",
    "onset = 20\n",
    "dur = tstop - 2 * onset"
   ]
  },
  {
   "cell_type": "markdown",
   "id": "ce792a43",
   "metadata": {},
   "source": [
    "## Define inputs"
   ]
  },
  {
   "cell_type": "code",
   "execution_count": 6,
   "id": "4af70a04",
   "metadata": {},
   "outputs": [],
   "source": [
    "# step current\n",
    "iclamp = h.IClamp(soma(0.5))\n",
    "iclamp.delay = onset\n",
    "iclamp.dur = dur\n",
    "iclamp.amp = 0.008 # (nA)\n",
    "\n",
    "# record voltage and time\n",
    "v = h.Vector().record(soma(0.5)._ref_v)             # Membrane potential vector\n",
    "t = h.Vector().record(h._ref_t)                     # Time stamp vector"
   ]
  },
  {
   "cell_type": "markdown",
   "id": "39e48cbd",
   "metadata": {},
   "source": [
    "# Run simulation"
   ]
  },
  {
   "cell_type": "code",
   "execution_count": 7,
   "id": "a3229393",
   "metadata": {},
   "outputs": [
    {
     "data": {
      "text/plain": [
       "0.0"
      ]
     },
     "execution_count": 7,
     "metadata": {},
     "output_type": "execute_result"
    }
   ],
   "source": [
    "h.load_file('stdrun.hoc')\n",
    "h.finitialize(-65)\n",
    "h.tstop = tstop\n",
    "h.run()"
   ]
  },
  {
   "cell_type": "code",
   "execution_count": 8,
   "id": "5601e4d5",
   "metadata": {},
   "outputs": [
    {
     "data": {
      "text/plain": [
       "(-54.51373316164802, -45.561736508171336)"
      ]
     },
     "execution_count": 8,
     "metadata": {},
     "output_type": "execute_result"
    },
    {
     "data": {
      "image/png": "[encoded data removed]",
      "text/plain": [
       "<Figure size 640x480 with 1 Axes>"
      ]
     },
     "metadata": {},
     "output_type": "display_data"
    }
   ],
   "source": [
    "v_arr = np.array(v)\n",
    "t_arr = np.array(t)\n",
    "\n",
    "plt.figure()\n",
    "plt.plot(t_arr, v_arr)\n",
    "plt.xlim(onset-10, (onset+dur)+10)\n",
    "plt.xlabel('t (ms)')\n",
    "plt.ylabel('v (mV)')\n",
    "\n",
    "# set ylim\n",
    "idx_t = np.where((t_arr>onset)&(t_arr<(onset+dur)))[0]\n",
    "plt.ylim(v_arr[idx_t].min()-0.25,v_arr[idx_t].max()+0.25)"
   ]
  },
  {
   "cell_type": "markdown",
   "id": "1b3d2984",
   "metadata": {},
   "source": [
    "# Passive properties"
   ]
  },
  {
   "cell_type": "code",
   "execution_count": 9,
   "id": "855bfb56",
   "metadata": {},
   "outputs": [],
   "source": [
    "from scipy.optimize import curve_fit\n",
    "# https://docs.scipy.org/doc/scipy/reference/generated/scipy.optimize.curve_fit.html\n",
    "\n",
    "def func_exp_grow(x, v0, delta_v, x0, tau):\n",
    "    \"\"\"Decaying exponential function.\"\"\"\n",
    "    return v0 + delta_v * (1-np.exp(-(x-x0)/tau))\n",
    "\n",
    "x = t_arr[idx_t]\n",
    "y_sim = v_arr[idx_t]\n",
    "\n",
    "popt, _ = curve_fit(func_exp_grow, x, y_sim, p0=[-54, 5, 20, 10], bounds=([-100, 0, 19.99, 0.001], [100, 100, 20.01, 100]))"
   ]
  },
  {
   "cell_type": "code",
   "execution_count": 10,
   "id": "f284762e",
   "metadata": {},
   "outputs": [
    {
     "data": {
      "text/plain": [
       "array([-54.32506872,   8.51333235,  20.00080731,   3.34581777])"
      ]
     },
     "execution_count": 10,
     "metadata": {},
     "output_type": "execute_result"
    }
   ],
   "source": [
    "popt"
   ]
  },
  {
   "cell_type": "code",
   "execution_count": 11,
   "id": "3e9e8cf5",
   "metadata": {},
   "outputs": [],
   "source": [
    "y_fit = func_exp_grow(x,*popt)"
   ]
  },
  {
   "cell_type": "code",
   "execution_count": 12,
   "id": "69c26088",
   "metadata": {},
   "outputs": [
    {
     "data": {
      "text/plain": [
       "[<matplotlib.lines.Line2D at 0x7f420a2d8ce0>]"
      ]
     },
     "execution_count": 12,
     "metadata": {},
     "output_type": "execute_result"
    },
    {
     "data": {
      "image/png": "[encoded data removed]",
      "text/plain": [
       "<Figure size 640x480 with 1 Axes>"
      ]
     },
     "metadata": {},
     "output_type": "display_data"
    }
   ],
   "source": [
    "plt.plot(x, y_sim, 'ko', markersize=2)\n",
    "plt.plot(x, y_fit, 'r-')"
   ]
  },
  {
   "cell_type": "code",
   "execution_count": 13,
   "id": "df2f029e",
   "metadata": {},
   "outputs": [
    {
     "name": "stdout",
     "output_type": "stream",
     "text": [
      "3.3333333333333335\n"
     ]
    }
   ],
   "source": [
    "tau_cut_off = soma.cm * (1/soma.gl_leak) * 1e-6 * 1e3  # ms\n",
    "print(tau_cut_off)"
   ]
  },
  {
   "cell_type": "code",
   "execution_count": 14,
   "id": "3d292bea",
   "metadata": {},
   "outputs": [],
   "source": [
    "def func_lin(x, q, m):\n",
    "    \"\"\"Decaying exponential function.\"\"\"\n",
    "    return q + m * x"
   ]
  },
  {
   "cell_type": "code",
   "execution_count": 15,
   "id": "d0ebd2e1",
   "metadata": {},
   "outputs": [
    {
     "name": "stdout",
     "output_type": "stream",
     "text": [
      "input resistance from fit = 1.05931e+09 (Ohm)\n"
     ]
    },
    {
     "data": {
      "image/png": "[encoded data removed]",
      "text/plain": [
       "<Figure size 640x480 with 1 Axes>"
      ]
     },
     "metadata": {},
     "output_type": "display_data"
    }
   ],
   "source": [
    "# experiment with soma.gl_leak = 0.0003\n",
    "\n",
    "dv=np.array([2.15445477, 4.28288189, 6.39247078, 8.51333235])\n",
    "icc=np.array([0.002, 0.004, 0.006, 0.008])\n",
    "\n",
    "popt_lin, _ = curve_fit(func_lin, icc, dv)\n",
    "\n",
    "Rin = popt_lin[1] * 1e6\n",
    "print('input resistance from fit = %g (Ohm)' % Rin)\n",
    "\n",
    "plt.plot(icc,dv,'ko')\n",
    "plt.plot(icc,func_lin(icc,*popt_lin),'r-');"
   ]
  },
  {
   "cell_type": "code",
   "execution_count": 16,
   "id": "1776cb41",
   "metadata": {},
   "outputs": [
    {
     "name": "stdout",
     "output_type": "stream",
     "text": [
      "input resistance of the model = 1.06103e+09 (Ohm)\n"
     ]
    }
   ],
   "source": [
    "surface = soma.L * soma.diam * np.pi # um2 #  = soma(0.5).area() \n",
    "gleakage = surface * soma.gl_leak * 1e-8 # um^2*S/cm^2 = 10^-12/10^-4 = 10^-8\n",
    "Rleak = 1/gleakage\n",
    "print('input resistance of the model = %g (Ohm)' % Rleak)"
   ]
  },
  {
   "cell_type": "code",
   "execution_count": null,
   "id": "ccbe1be3",
   "metadata": {},
   "outputs": [],
   "source": []
  }
 ],
 "metadata": {
  "hide_input": false,
  "kernelspec": {
   "display_name": "neuron",
   "language": "python",
   "name": "python3"
  },
  "language_info": {
   "codemirror_mode": {
    "name": "ipython",
    "version": 3
   },
   "file_extension": ".py",
   "mimetype": "text/x-python",
   "name": "python",
   "nbconvert_exporter": "python",
   "pygments_lexer": "ipython3",
   "version": "3.12.4"
  },
  "toc": {
   "base_numbering": 1,
   "nav_menu": {},
   "number_sections": true,
   "sideBar": true,
   "skip_h1_title": false,
   "title_cell": "Table of Contents",
   "title_sidebar": "Contents",
   "toc_cell": false,
   "toc_position": {},
   "toc_section_display": true,
   "toc_window_display": true
  }
 },
 "nbformat": 4,
 "nbformat_minor": 5
}
