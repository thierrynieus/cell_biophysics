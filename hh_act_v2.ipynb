{
 "cells": [
  {
   "cell_type": "code",
   "execution_count": 58,
   "id": "5dd4ff38",
   "metadata": {},
   "outputs": [],
   "source": [
    "!pip install numpy scipy matplotlib neuron --quiet"
   ]
  },
  {
   "cell_type": "code",
   "execution_count": 59,
   "id": "051746cd",
   "metadata": {},
   "outputs": [
    {
     "data": {
      "text/plain": [
       "<contextlib.ExitStack at 0x7f08c6f17680>"
      ]
     },
     "execution_count": 59,
     "metadata": {},
     "output_type": "execute_result"
    }
   ],
   "source": [
    "import numpy as np\n",
    "import pylab as plt\n",
    "plt.ion()"
   ]
  },
  {
   "cell_type": "code",
   "execution_count": 60,
   "id": "36c8dcee",
   "metadata": {},
   "outputs": [
    {
     "name": "stdout",
     "output_type": "stream",
     "text": [
      "/home/tnieus/anaconda3/envs/neuron2425/bin/nrnivmodl:10: DeprecationWarning: pkg_resources is deprecated as an API. See https://setuptools.pypa.io/en/latest/pkg_resources.html\n",
      "  from pkg_resources import working_set\n"
     ]
    }
   ],
   "source": [
    "!nrnivmodl > null.out"
   ]
  },
  {
   "cell_type": "markdown",
   "id": "5f141dd9",
   "metadata": {},
   "source": [
    "# Model setting"
   ]
  },
  {
   "cell_type": "code",
   "execution_count": 61,
   "id": "d8c968d0",
   "metadata": {},
   "outputs": [
    {
     "data": {
      "text/plain": [
       "soma"
      ]
     },
     "execution_count": 61,
     "metadata": {},
     "output_type": "execute_result"
    }
   ],
   "source": [
    "from neuron import h\n",
    "soma = h.Section(name='soma')\n",
    "soma.L = 10\n",
    "soma.diam = 10\n",
    "soma.insert('sodium')\n",
    "soma.insert('potassium')\n",
    "soma.insert('leak')"
   ]
  },
  {
   "cell_type": "code",
   "execution_count": 62,
   "id": "19f097f6",
   "metadata": {},
   "outputs": [
    {
     "name": "stdout",
     "output_type": "stream",
     "text": [
      "0.12\n",
      "0.036\n"
     ]
    }
   ],
   "source": [
    "print(soma.gnabar_sodium)\n",
    "print(soma.gkbar_potassium)"
   ]
  },
  {
   "cell_type": "code",
   "execution_count": 63,
   "id": "b027020b",
   "metadata": {},
   "outputs": [],
   "source": [
    "tstop = 1000\n",
    "onset = 200\n",
    "dur = tstop - 2 * onset"
   ]
  },
  {
   "cell_type": "markdown",
   "id": "ce792a43",
   "metadata": {},
   "source": [
    "## Define inputs"
   ]
  },
  {
   "cell_type": "code",
   "execution_count": 64,
   "id": "4af70a04",
   "metadata": {},
   "outputs": [],
   "source": [
    "# step current\n",
    "iclamp = h.IClamp(soma(0.5))\n",
    "iclamp.delay = onset\n",
    "iclamp.dur = dur\n",
    "iclamp.amp = 0.016 # (nA)\n",
    "\n",
    "# record voltage and time\n",
    "v = h.Vector().record(soma(0.5)._ref_v)             # Membrane potential vector\n",
    "t = h.Vector().record(h._ref_t)                     # Time stamp vector"
   ]
  },
  {
   "cell_type": "code",
   "execution_count": 65,
   "id": "e70d02ac-471b-4f98-a7f4-772b141633ab",
   "metadata": {},
   "outputs": [],
   "source": [
    "# record minf, mtau\n",
    "minf = h.Vector().record(soma(0.5)._ref_minf_sodium) # minf\n",
    "mtau = h.Vector().record(soma(0.5)._ref_mtau_sodium) # mtau"
   ]
  },
  {
   "cell_type": "code",
   "execution_count": 66,
   "id": "0ea4e7f7",
   "metadata": {},
   "outputs": [
    {
     "data": {
      "text/plain": [
       "0.0"
      ]
     },
     "execution_count": 66,
     "metadata": {},
     "output_type": "execute_result"
    }
   ],
   "source": [
    "# record spike time stamps\n",
    "record = {}      \n",
    "nc_spike = h.NetCon(soma(0.5)._ref_v, None, -20, 0, 1, sec=soma)\n",
    "\n",
    "record['spk'] = h.Vector()\n",
    "nc_spike.record(record['spk'])"
   ]
  },
  {
   "cell_type": "markdown",
   "id": "39e48cbd",
   "metadata": {},
   "source": [
    "# Run simulation"
   ]
  },
  {
   "cell_type": "code",
   "execution_count": 67,
   "id": "a3229393",
   "metadata": {},
   "outputs": [],
   "source": [
    "h.load_file('stdrun.hoc')\n",
    "h.finitialize(-65)\n",
    "h.tstop = tstop"
   ]
  },
  {
   "cell_type": "markdown",
   "id": "c6f036e5",
   "metadata": {},
   "source": [
    "## control condition"
   ]
  },
  {
   "cell_type": "code",
   "execution_count": 68,
   "id": "575c79ad",
   "metadata": {},
   "outputs": [],
   "source": [
    "h.run()\n",
    "t_arr = np.array(t)\n",
    "v_arr = np.array(v)\n",
    "minf_arr = np.array(minf)\n",
    "mtau_arr = np.array(mtau)"
   ]
  },
  {
   "cell_type": "code",
   "execution_count": 69,
   "id": "5601e4d5",
   "metadata": {},
   "outputs": [
    {
     "data": {
      "text/plain": [
       "Text(0, 0.5, 'v (mV)')"
      ]
     },
     "execution_count": 69,
     "metadata": {},
     "output_type": "execute_result"
    },
    {
     "data": {
      "image/png": "[encoded data removed]",
      "text/plain": [
       "<Figure size 400x200 with 1 Axes>"
      ]
     },
     "metadata": {},
     "output_type": "display_data"
    }
   ],
   "source": [
    "plt.figure(figsize=(4,2))\n",
    "plt.plot(t_arr, v_arr)\n",
    "plt.xlabel('t (ms)')\n",
    "plt.ylabel('v (mV)')\n"
   ]
  },
  {
   "cell_type": "code",
   "execution_count": 70,
   "id": "32b2d801-87d6-45c8-b141-2054a8b2c233",
   "metadata": {},
   "outputs": [
    {
     "name": "stdout",
     "output_type": "stream",
     "text": [
      "2\n"
     ]
    }
   ],
   "source": [
    "spikes = np.array(record['spk'])\n",
    "print(len(spikes))"
   ]
  },
  {
   "cell_type": "code",
   "execution_count": 71,
   "id": "b58515b7-f9e1-4272-bc3f-39565a694ba7",
   "metadata": {},
   "outputs": [
    {
     "name": "stdout",
     "output_type": "stream",
     "text": [
      "0.1 4.0\n"
     ]
    }
   ],
   "source": [
    "# gnabar, gna, minf, hinf, mtau, htau, m, h, ina, Am, v0_Am, k_Am, Bm, v0_Bm, k_Bm, Ah, v0_Ah, k_Ah, Bh, v0_Bh, k_Bh\t\n",
    "\n",
    "print(soma.Am_sodium, soma.Bm_sodium)"
   ]
  },
  {
   "cell_type": "markdown",
   "id": "2ff3e9f6",
   "metadata": {},
   "source": [
    "## Updated condition"
   ]
  },
  {
   "cell_type": "code",
   "execution_count": 72,
   "id": "fece06dd",
   "metadata": {},
   "outputs": [
    {
     "name": "stdout",
     "output_type": "stream",
     "text": [
      "0.11000000000000001 4.4\n"
     ]
    }
   ],
   "source": [
    "K = 1.1\n",
    "soma.Am_sodium = 0.1  * K\n",
    "soma.Bm_sodium = 4 * K\n",
    "print(soma.Am_sodium, soma.Bm_sodium)"
   ]
  },
  {
   "cell_type": "code",
   "execution_count": 73,
   "id": "54123adf",
   "metadata": {},
   "outputs": [],
   "source": [
    "h.run()\n",
    "t_arr_2 = np.array(t)\n",
    "v_arr_2 = np.array(v)\n",
    "minf_arr_2 = np.array(minf)\n",
    "mtau_arr_2 = np.array(mtau)"
   ]
  },
  {
   "cell_type": "code",
   "execution_count": 74,
   "id": "3aaa462c",
   "metadata": {},
   "outputs": [
    {
     "data": {
      "text/plain": [
       "Text(0, 0.5, 'v (mV)')"
      ]
     },
     "execution_count": 74,
     "metadata": {},
     "output_type": "execute_result"
    },
    {
     "data": {
      "image/png": "[encoded data removed]",
      "text/plain": [
       "<Figure size 400x200 with 1 Axes>"
      ]
     },
     "metadata": {},
     "output_type": "display_data"
    }
   ],
   "source": [
    "plt.figure(figsize=(4,2))\n",
    "plt.plot(t_arr_2, v_arr_2)\n",
    "plt.xlabel('t (ms)')\n",
    "plt.ylabel('v (mV)')"
   ]
  },
  {
   "cell_type": "code",
   "execution_count": 75,
   "id": "a79d8cac-6f45-473f-a70b-549946374bc4",
   "metadata": {},
   "outputs": [
    {
     "data": {
      "text/plain": [
       "<matplotlib.legend.Legend at 0x7f08c6c4c440>"
      ]
     },
     "execution_count": 75,
     "metadata": {},
     "output_type": "execute_result"
    },
    {
     "data": {
      "image/png": "[encoded data removed]",
      "text/plain": [
       "<Figure size 400x200 with 1 Axes>"
      ]
     },
     "metadata": {},
     "output_type": "display_data"
    },
    {
     "data": {
      "image/png": "[encoded data removed]",
      "text/plain": [
       "<Figure size 400x200 with 1 Axes>"
      ]
     },
     "metadata": {},
     "output_type": "display_data"
    }
   ],
   "source": [
    "plt.figure(figsize=(4,2))\n",
    "plt.plot(v_arr, minf_arr, 'k-', label=\"control\")\n",
    "plt.plot(v_arr_2, minf_arr_2, 'r-', label=\"updated\")\n",
    "plt.grid()\n",
    "plt.legend(loc=1)\n",
    "#plt.savefig('minf.png')\n",
    "\n",
    "plt.figure(figsize=(4,2))\n",
    "plt.plot(v_arr, mtau_arr, 'k-', label=\"control\")\n",
    "plt.plot(v_arr_2, mtau_arr_2, 'r-', label=\"updated\")\n",
    "plt.grid()\n",
    "plt.legend(loc=1)\n",
    "#plt.savefig('mtau.png')\n"
   ]
  }
 ],
 "metadata": {
  "hide_input": false,
  "kernelspec": {
   "display_name": "neuron2425",
   "language": "python",
   "name": "python3"
  },
  "language_info": {
   "codemirror_mode": {
    "name": "ipython",
    "version": 3
   },
   "file_extension": ".py",
   "mimetype": "text/x-python",
   "name": "python",
   "nbconvert_exporter": "python",
   "pygments_lexer": "ipython3",
   "version": "3.12.0"
  },
  "toc": {
   "base_numbering": 1,
   "nav_menu": {},
   "number_sections": true,
   "sideBar": true,
   "skip_h1_title": false,
   "title_cell": "Table of Contents",
   "title_sidebar": "Contents",
   "toc_cell": false,
   "toc_position": {},
   "toc_section_display": true,
   "toc_window_display": true
  }
 },
 "nbformat": 4,
 "nbformat_minor": 5
}
